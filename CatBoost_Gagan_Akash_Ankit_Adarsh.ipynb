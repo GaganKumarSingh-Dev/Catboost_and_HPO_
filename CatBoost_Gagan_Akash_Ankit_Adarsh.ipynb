{
  "nbformat": 4,
  "nbformat_minor": 0,
  "metadata": {
    "colab": {
      "provenance": []
    },
    "kernelspec": {
      "name": "python3",
      "display_name": "Python 3"
    },
    "language_info": {
      "name": "python"
    }
  },
  "cells": [
    {
      "cell_type": "code",
      "source": [
        "!pip install catboost"
      ],
      "metadata": {
        "colab": {
          "base_uri": "https://localhost:8080/"
        },
        "id": "8au_B-zeRhmf",
        "outputId": "52c1fa01-196c-46c7-9463-b93e9a122693"
      },
      "execution_count": 2,
      "outputs": [
        {
          "output_type": "stream",
          "name": "stdout",
          "text": [
            "Collecting catboost\n",
            "  Downloading catboost-1.2.3-cp310-cp310-manylinux2014_x86_64.whl (98.5 MB)\n",
            "\u001b[2K     \u001b[90m━━━━━━━━━━━━━━━━━━━━━━━━━━━━━━━━━━━━━━━━\u001b[0m \u001b[32m98.5/98.5 MB\u001b[0m \u001b[31m8.1 MB/s\u001b[0m eta \u001b[36m0:00:00\u001b[0m\n",
            "\u001b[?25hRequirement already satisfied: graphviz in /usr/local/lib/python3.10/dist-packages (from catboost) (0.20.3)\n",
            "Requirement already satisfied: matplotlib in /usr/local/lib/python3.10/dist-packages (from catboost) (3.7.1)\n",
            "Requirement already satisfied: numpy>=1.16.0 in /usr/local/lib/python3.10/dist-packages (from catboost) (1.25.2)\n",
            "Requirement already satisfied: pandas>=0.24 in /usr/local/lib/python3.10/dist-packages (from catboost) (1.5.3)\n",
            "Requirement already satisfied: scipy in /usr/local/lib/python3.10/dist-packages (from catboost) (1.11.4)\n",
            "Requirement already satisfied: plotly in /usr/local/lib/python3.10/dist-packages (from catboost) (5.15.0)\n",
            "Requirement already satisfied: six in /usr/local/lib/python3.10/dist-packages (from catboost) (1.16.0)\n",
            "Requirement already satisfied: python-dateutil>=2.8.1 in /usr/local/lib/python3.10/dist-packages (from pandas>=0.24->catboost) (2.8.2)\n",
            "Requirement already satisfied: pytz>=2020.1 in /usr/local/lib/python3.10/dist-packages (from pandas>=0.24->catboost) (2023.4)\n",
            "Requirement already satisfied: contourpy>=1.0.1 in /usr/local/lib/python3.10/dist-packages (from matplotlib->catboost) (1.2.0)\n",
            "Requirement already satisfied: cycler>=0.10 in /usr/local/lib/python3.10/dist-packages (from matplotlib->catboost) (0.12.1)\n",
            "Requirement already satisfied: fonttools>=4.22.0 in /usr/local/lib/python3.10/dist-packages (from matplotlib->catboost) (4.50.0)\n",
            "Requirement already satisfied: kiwisolver>=1.0.1 in /usr/local/lib/python3.10/dist-packages (from matplotlib->catboost) (1.4.5)\n",
            "Requirement already satisfied: packaging>=20.0 in /usr/local/lib/python3.10/dist-packages (from matplotlib->catboost) (24.0)\n",
            "Requirement already satisfied: pillow>=6.2.0 in /usr/local/lib/python3.10/dist-packages (from matplotlib->catboost) (9.4.0)\n",
            "Requirement already satisfied: pyparsing>=2.3.1 in /usr/local/lib/python3.10/dist-packages (from matplotlib->catboost) (3.1.2)\n",
            "Requirement already satisfied: tenacity>=6.2.0 in /usr/local/lib/python3.10/dist-packages (from plotly->catboost) (8.2.3)\n",
            "Installing collected packages: catboost\n",
            "Successfully installed catboost-1.2.3\n"
          ]
        }
      ]
    },
    {
      "cell_type": "code",
      "execution_count": 3,
      "metadata": {
        "id": "Cxg7S_70N1Jo"
      },
      "outputs": [],
      "source": [
        "import numpy as np\n",
        "import pandas as pd\n",
        "import seaborn as sns\n",
        "import matplotlib.pyplot as plt\n",
        "from sklearn.model_selection import train_test_split,cross_val_score\n",
        "from catboost import CatBoostRegressor\n",
        "from sklearn.metrics import classification_report,confusion_matrix,accuracy_score,mean_squared_error\n",
        "import scipy.stats as stats"
      ]
    },
    {
      "cell_type": "code",
      "source": [
        "df = pd.read_csv('clean_data.csv')"
      ],
      "metadata": {
        "id": "4xkVs4vhRpXw"
      },
      "execution_count": 4,
      "outputs": []
    },
    {
      "cell_type": "code",
      "source": [
        "df.head()"
      ],
      "metadata": {
        "colab": {
          "base_uri": "https://localhost:8080/",
          "height": 206
        },
        "id": "vUOlX1C0SIaO",
        "outputId": "f4974f7f-e91a-4ff5-96a7-82153dc04d77"
      },
      "execution_count": 5,
      "outputs": [
        {
          "output_type": "execute_result",
          "data": {
            "text/plain": [
              "       a          b       c         d    target\n",
              "0  0.005  18.391129  0.0160  0.002839  5.636734\n",
              "1  0.022  18.391129  0.0182  0.002000  9.098374\n",
              "2  0.004  18.391129  0.0161  0.003411  4.720418\n",
              "3  0.007  18.391129  0.0171  0.002606  6.562306\n",
              "4  0.008  18.391129  0.0161  0.002153  7.478623"
            ],
            "text/html": [
              "\n",
              "  <div id=\"df-39429956-ae11-444d-b143-bfcab03243d6\" class=\"colab-df-container\">\n",
              "    <div>\n",
              "<style scoped>\n",
              "    .dataframe tbody tr th:only-of-type {\n",
              "        vertical-align: middle;\n",
              "    }\n",
              "\n",
              "    .dataframe tbody tr th {\n",
              "        vertical-align: top;\n",
              "    }\n",
              "\n",
              "    .dataframe thead th {\n",
              "        text-align: right;\n",
              "    }\n",
              "</style>\n",
              "<table border=\"1\" class=\"dataframe\">\n",
              "  <thead>\n",
              "    <tr style=\"text-align: right;\">\n",
              "      <th></th>\n",
              "      <th>a</th>\n",
              "      <th>b</th>\n",
              "      <th>c</th>\n",
              "      <th>d</th>\n",
              "      <th>target</th>\n",
              "    </tr>\n",
              "  </thead>\n",
              "  <tbody>\n",
              "    <tr>\n",
              "      <th>0</th>\n",
              "      <td>0.005</td>\n",
              "      <td>18.391129</td>\n",
              "      <td>0.0160</td>\n",
              "      <td>0.002839</td>\n",
              "      <td>5.636734</td>\n",
              "    </tr>\n",
              "    <tr>\n",
              "      <th>1</th>\n",
              "      <td>0.022</td>\n",
              "      <td>18.391129</td>\n",
              "      <td>0.0182</td>\n",
              "      <td>0.002000</td>\n",
              "      <td>9.098374</td>\n",
              "    </tr>\n",
              "    <tr>\n",
              "      <th>2</th>\n",
              "      <td>0.004</td>\n",
              "      <td>18.391129</td>\n",
              "      <td>0.0161</td>\n",
              "      <td>0.003411</td>\n",
              "      <td>4.720418</td>\n",
              "    </tr>\n",
              "    <tr>\n",
              "      <th>3</th>\n",
              "      <td>0.007</td>\n",
              "      <td>18.391129</td>\n",
              "      <td>0.0171</td>\n",
              "      <td>0.002606</td>\n",
              "      <td>6.562306</td>\n",
              "    </tr>\n",
              "    <tr>\n",
              "      <th>4</th>\n",
              "      <td>0.008</td>\n",
              "      <td>18.391129</td>\n",
              "      <td>0.0161</td>\n",
              "      <td>0.002153</td>\n",
              "      <td>7.478623</td>\n",
              "    </tr>\n",
              "  </tbody>\n",
              "</table>\n",
              "</div>\n",
              "    <div class=\"colab-df-buttons\">\n",
              "\n",
              "  <div class=\"colab-df-container\">\n",
              "    <button class=\"colab-df-convert\" onclick=\"convertToInteractive('df-39429956-ae11-444d-b143-bfcab03243d6')\"\n",
              "            title=\"Convert this dataframe to an interactive table.\"\n",
              "            style=\"display:none;\">\n",
              "\n",
              "  <svg xmlns=\"http://www.w3.org/2000/svg\" height=\"24px\" viewBox=\"0 -960 960 960\">\n",
              "    <path d=\"M120-120v-720h720v720H120Zm60-500h600v-160H180v160Zm220 220h160v-160H400v160Zm0 220h160v-160H400v160ZM180-400h160v-160H180v160Zm440 0h160v-160H620v160ZM180-180h160v-160H180v160Zm440 0h160v-160H620v160Z\"/>\n",
              "  </svg>\n",
              "    </button>\n",
              "\n",
              "  <style>\n",
              "    .colab-df-container {\n",
              "      display:flex;\n",
              "      gap: 12px;\n",
              "    }\n",
              "\n",
              "    .colab-df-convert {\n",
              "      background-color: #E8F0FE;\n",
              "      border: none;\n",
              "      border-radius: 50%;\n",
              "      cursor: pointer;\n",
              "      display: none;\n",
              "      fill: #1967D2;\n",
              "      height: 32px;\n",
              "      padding: 0 0 0 0;\n",
              "      width: 32px;\n",
              "    }\n",
              "\n",
              "    .colab-df-convert:hover {\n",
              "      background-color: #E2EBFA;\n",
              "      box-shadow: 0px 1px 2px rgba(60, 64, 67, 0.3), 0px 1px 3px 1px rgba(60, 64, 67, 0.15);\n",
              "      fill: #174EA6;\n",
              "    }\n",
              "\n",
              "    .colab-df-buttons div {\n",
              "      margin-bottom: 4px;\n",
              "    }\n",
              "\n",
              "    [theme=dark] .colab-df-convert {\n",
              "      background-color: #3B4455;\n",
              "      fill: #D2E3FC;\n",
              "    }\n",
              "\n",
              "    [theme=dark] .colab-df-convert:hover {\n",
              "      background-color: #434B5C;\n",
              "      box-shadow: 0px 1px 3px 1px rgba(0, 0, 0, 0.15);\n",
              "      filter: drop-shadow(0px 1px 2px rgba(0, 0, 0, 0.3));\n",
              "      fill: #FFFFFF;\n",
              "    }\n",
              "  </style>\n",
              "\n",
              "    <script>\n",
              "      const buttonEl =\n",
              "        document.querySelector('#df-39429956-ae11-444d-b143-bfcab03243d6 button.colab-df-convert');\n",
              "      buttonEl.style.display =\n",
              "        google.colab.kernel.accessAllowed ? 'block' : 'none';\n",
              "\n",
              "      async function convertToInteractive(key) {\n",
              "        const element = document.querySelector('#df-39429956-ae11-444d-b143-bfcab03243d6');\n",
              "        const dataTable =\n",
              "          await google.colab.kernel.invokeFunction('convertToInteractive',\n",
              "                                                    [key], {});\n",
              "        if (!dataTable) return;\n",
              "\n",
              "        const docLinkHtml = 'Like what you see? Visit the ' +\n",
              "          '<a target=\"_blank\" href=https://colab.research.google.com/notebooks/data_table.ipynb>data table notebook</a>'\n",
              "          + ' to learn more about interactive tables.';\n",
              "        element.innerHTML = '';\n",
              "        dataTable['output_type'] = 'display_data';\n",
              "        await google.colab.output.renderOutput(dataTable, element);\n",
              "        const docLink = document.createElement('div');\n",
              "        docLink.innerHTML = docLinkHtml;\n",
              "        element.appendChild(docLink);\n",
              "      }\n",
              "    </script>\n",
              "  </div>\n",
              "\n",
              "\n",
              "<div id=\"df-5eacd7e7-3e16-4151-8659-16729c386a21\">\n",
              "  <button class=\"colab-df-quickchart\" onclick=\"quickchart('df-5eacd7e7-3e16-4151-8659-16729c386a21')\"\n",
              "            title=\"Suggest charts\"\n",
              "            style=\"display:none;\">\n",
              "\n",
              "<svg xmlns=\"http://www.w3.org/2000/svg\" height=\"24px\"viewBox=\"0 0 24 24\"\n",
              "     width=\"24px\">\n",
              "    <g>\n",
              "        <path d=\"M19 3H5c-1.1 0-2 .9-2 2v14c0 1.1.9 2 2 2h14c1.1 0 2-.9 2-2V5c0-1.1-.9-2-2-2zM9 17H7v-7h2v7zm4 0h-2V7h2v10zm4 0h-2v-4h2v4z\"/>\n",
              "    </g>\n",
              "</svg>\n",
              "  </button>\n",
              "\n",
              "<style>\n",
              "  .colab-df-quickchart {\n",
              "      --bg-color: #E8F0FE;\n",
              "      --fill-color: #1967D2;\n",
              "      --hover-bg-color: #E2EBFA;\n",
              "      --hover-fill-color: #174EA6;\n",
              "      --disabled-fill-color: #AAA;\n",
              "      --disabled-bg-color: #DDD;\n",
              "  }\n",
              "\n",
              "  [theme=dark] .colab-df-quickchart {\n",
              "      --bg-color: #3B4455;\n",
              "      --fill-color: #D2E3FC;\n",
              "      --hover-bg-color: #434B5C;\n",
              "      --hover-fill-color: #FFFFFF;\n",
              "      --disabled-bg-color: #3B4455;\n",
              "      --disabled-fill-color: #666;\n",
              "  }\n",
              "\n",
              "  .colab-df-quickchart {\n",
              "    background-color: var(--bg-color);\n",
              "    border: none;\n",
              "    border-radius: 50%;\n",
              "    cursor: pointer;\n",
              "    display: none;\n",
              "    fill: var(--fill-color);\n",
              "    height: 32px;\n",
              "    padding: 0;\n",
              "    width: 32px;\n",
              "  }\n",
              "\n",
              "  .colab-df-quickchart:hover {\n",
              "    background-color: var(--hover-bg-color);\n",
              "    box-shadow: 0 1px 2px rgba(60, 64, 67, 0.3), 0 1px 3px 1px rgba(60, 64, 67, 0.15);\n",
              "    fill: var(--button-hover-fill-color);\n",
              "  }\n",
              "\n",
              "  .colab-df-quickchart-complete:disabled,\n",
              "  .colab-df-quickchart-complete:disabled:hover {\n",
              "    background-color: var(--disabled-bg-color);\n",
              "    fill: var(--disabled-fill-color);\n",
              "    box-shadow: none;\n",
              "  }\n",
              "\n",
              "  .colab-df-spinner {\n",
              "    border: 2px solid var(--fill-color);\n",
              "    border-color: transparent;\n",
              "    border-bottom-color: var(--fill-color);\n",
              "    animation:\n",
              "      spin 1s steps(1) infinite;\n",
              "  }\n",
              "\n",
              "  @keyframes spin {\n",
              "    0% {\n",
              "      border-color: transparent;\n",
              "      border-bottom-color: var(--fill-color);\n",
              "      border-left-color: var(--fill-color);\n",
              "    }\n",
              "    20% {\n",
              "      border-color: transparent;\n",
              "      border-left-color: var(--fill-color);\n",
              "      border-top-color: var(--fill-color);\n",
              "    }\n",
              "    30% {\n",
              "      border-color: transparent;\n",
              "      border-left-color: var(--fill-color);\n",
              "      border-top-color: var(--fill-color);\n",
              "      border-right-color: var(--fill-color);\n",
              "    }\n",
              "    40% {\n",
              "      border-color: transparent;\n",
              "      border-right-color: var(--fill-color);\n",
              "      border-top-color: var(--fill-color);\n",
              "    }\n",
              "    60% {\n",
              "      border-color: transparent;\n",
              "      border-right-color: var(--fill-color);\n",
              "    }\n",
              "    80% {\n",
              "      border-color: transparent;\n",
              "      border-right-color: var(--fill-color);\n",
              "      border-bottom-color: var(--fill-color);\n",
              "    }\n",
              "    90% {\n",
              "      border-color: transparent;\n",
              "      border-bottom-color: var(--fill-color);\n",
              "    }\n",
              "  }\n",
              "</style>\n",
              "\n",
              "  <script>\n",
              "    async function quickchart(key) {\n",
              "      const quickchartButtonEl =\n",
              "        document.querySelector('#' + key + ' button');\n",
              "      quickchartButtonEl.disabled = true;  // To prevent multiple clicks.\n",
              "      quickchartButtonEl.classList.add('colab-df-spinner');\n",
              "      try {\n",
              "        const charts = await google.colab.kernel.invokeFunction(\n",
              "            'suggestCharts', [key], {});\n",
              "      } catch (error) {\n",
              "        console.error('Error during call to suggestCharts:', error);\n",
              "      }\n",
              "      quickchartButtonEl.classList.remove('colab-df-spinner');\n",
              "      quickchartButtonEl.classList.add('colab-df-quickchart-complete');\n",
              "    }\n",
              "    (() => {\n",
              "      let quickchartButtonEl =\n",
              "        document.querySelector('#df-5eacd7e7-3e16-4151-8659-16729c386a21 button');\n",
              "      quickchartButtonEl.style.display =\n",
              "        google.colab.kernel.accessAllowed ? 'block' : 'none';\n",
              "    })();\n",
              "  </script>\n",
              "</div>\n",
              "\n",
              "    </div>\n",
              "  </div>\n"
            ],
            "application/vnd.google.colaboratory.intrinsic+json": {
              "type": "dataframe",
              "variable_name": "df",
              "summary": "{\n  \"name\": \"df\",\n  \"rows\": 530,\n  \"fields\": [\n    {\n      \"column\": \"a\",\n      \"properties\": {\n        \"dtype\": \"number\",\n        \"std\": 1.8708751690592609,\n        \"min\": 0.0005,\n        \"max\": 19.957,\n        \"num_unique_values\": 385,\n        \"samples\": [\n          0.588,\n          0.445,\n          0.0064\n        ],\n        \"semantic_type\": \"\",\n        \"description\": \"\"\n      }\n    },\n    {\n      \"column\": \"b\",\n      \"properties\": {\n        \"dtype\": \"number\",\n        \"std\": 53.23291635276516,\n        \"min\": 5.07954901239526,\n        \"max\": 215.591472460032,\n        \"num_unique_values\": 29,\n        \"samples\": [\n          10.8552394404982,\n          11.9130662350429,\n          127.630830415241\n        ],\n        \"semantic_type\": \"\",\n        \"description\": \"\"\n      }\n    },\n    {\n      \"column\": \"c\",\n      \"properties\": {\n        \"dtype\": \"number\",\n        \"std\": 0.008107131249372594,\n        \"min\": 0.0107,\n        \"max\": 0.0532,\n        \"num_unique_values\": 173,\n        \"samples\": [\n          0.0419,\n          0.0288,\n          0.0211\n        ],\n        \"semantic_type\": \"\",\n        \"description\": \"\"\n      }\n    },\n    {\n      \"column\": \"d\",\n      \"properties\": {\n        \"dtype\": \"number\",\n        \"std\": 0.004179959181703012,\n        \"min\": 0.00102016160827,\n        \"max\": 0.03318464268375,\n        \"num_unique_values\": 525,\n        \"samples\": [\n          0.004752793245364,\n          0.00490222443987,\n          0.001972356093277\n        ],\n        \"semantic_type\": \"\",\n        \"description\": \"\"\n      }\n    },\n    {\n      \"column\": \"target\",\n      \"properties\": {\n        \"dtype\": \"number\",\n        \"std\": 2.5369924637241525,\n        \"min\": 1.29835269495062,\n        \"max\": 16.0758843177971,\n        \"num_unique_values\": 492,\n        \"samples\": [\n          3.96357750521129,\n          4.22489445612993,\n          2.55226771915825\n        ],\n        \"semantic_type\": \"\",\n        \"description\": \"\"\n      }\n    }\n  ]\n}"
            }
          },
          "metadata": {},
          "execution_count": 5
        }
      ]
    },
    {
      "cell_type": "code",
      "source": [
        "X = df.drop(columns=['target'])\n",
        "y = df['target']"
      ],
      "metadata": {
        "id": "9A1z8MYASLFC"
      },
      "execution_count": 6,
      "outputs": []
    },
    {
      "cell_type": "code",
      "source": [
        "X_train, X_test, y_train, y_test = train_test_split(X, y, test_size=0.2, random_state=42)"
      ],
      "metadata": {
        "id": "xF7pPRomShMa"
      },
      "execution_count": 9,
      "outputs": []
    },
    {
      "cell_type": "code",
      "source": [
        "catboost_model = CatBoostRegressor(iterations=100, learning_rate=0.1, depth=6)\n",
        "catboost_model.fit(X_train, y_train)"
      ],
      "metadata": {
        "colab": {
          "base_uri": "https://localhost:8080/"
        },
        "id": "9fc0LsWHSoT4",
        "outputId": "9fb0e7ef-e19a-47d2-a53c-549c54bb8882"
      },
      "execution_count": 10,
      "outputs": [
        {
          "output_type": "stream",
          "name": "stdout",
          "text": [
            "0:\tlearn: 2.4272407\ttotal: 51.8ms\tremaining: 5.13s\n",
            "1:\tlearn: 2.2743266\ttotal: 55.8ms\tremaining: 2.74s\n",
            "2:\tlearn: 2.1215110\ttotal: 59ms\tremaining: 1.91s\n",
            "3:\tlearn: 1.9828450\ttotal: 61.1ms\tremaining: 1.47s\n",
            "4:\tlearn: 1.8748872\ttotal: 64.7ms\tremaining: 1.23s\n",
            "5:\tlearn: 1.7501949\ttotal: 68ms\tremaining: 1.06s\n",
            "6:\tlearn: 1.6441114\ttotal: 72.8ms\tremaining: 967ms\n",
            "7:\tlearn: 1.5465085\ttotal: 75.5ms\tremaining: 868ms\n",
            "8:\tlearn: 1.4545214\ttotal: 77.7ms\tremaining: 786ms\n",
            "9:\tlearn: 1.3785533\ttotal: 81.2ms\tremaining: 730ms\n",
            "10:\tlearn: 1.3025571\ttotal: 84.3ms\tremaining: 682ms\n",
            "11:\tlearn: 1.2251538\ttotal: 87.4ms\tremaining: 641ms\n",
            "12:\tlearn: 1.1696569\ttotal: 90.6ms\tremaining: 606ms\n",
            "13:\tlearn: 1.1186599\ttotal: 93ms\tremaining: 571ms\n",
            "14:\tlearn: 1.0644222\ttotal: 97ms\tremaining: 549ms\n",
            "15:\tlearn: 1.0144819\ttotal: 99.7ms\tremaining: 523ms\n",
            "16:\tlearn: 0.9799303\ttotal: 103ms\tremaining: 502ms\n",
            "17:\tlearn: 0.9321061\ttotal: 107ms\tremaining: 487ms\n",
            "18:\tlearn: 0.8919955\ttotal: 110ms\tremaining: 468ms\n",
            "19:\tlearn: 0.8502395\ttotal: 113ms\tremaining: 452ms\n",
            "20:\tlearn: 0.8144263\ttotal: 116ms\tremaining: 438ms\n",
            "21:\tlearn: 0.7820167\ttotal: 120ms\tremaining: 425ms\n",
            "22:\tlearn: 0.7581405\ttotal: 123ms\tremaining: 411ms\n",
            "23:\tlearn: 0.7266295\ttotal: 126ms\tremaining: 400ms\n",
            "24:\tlearn: 0.6975811\ttotal: 129ms\tremaining: 388ms\n",
            "25:\tlearn: 0.6754587\ttotal: 133ms\tremaining: 379ms\n",
            "26:\tlearn: 0.6535718\ttotal: 137ms\tremaining: 370ms\n",
            "27:\tlearn: 0.6374279\ttotal: 147ms\tremaining: 379ms\n",
            "28:\tlearn: 0.6180453\ttotal: 155ms\tremaining: 380ms\n",
            "29:\tlearn: 0.6007650\ttotal: 161ms\tremaining: 375ms\n",
            "30:\tlearn: 0.5833052\ttotal: 164ms\tremaining: 366ms\n",
            "31:\tlearn: 0.5711138\ttotal: 178ms\tremaining: 378ms\n",
            "32:\tlearn: 0.5550521\ttotal: 186ms\tremaining: 378ms\n",
            "33:\tlearn: 0.5450614\ttotal: 189ms\tremaining: 367ms\n",
            "34:\tlearn: 0.5298951\ttotal: 193ms\tremaining: 359ms\n",
            "35:\tlearn: 0.5169647\ttotal: 195ms\tremaining: 347ms\n",
            "36:\tlearn: 0.5057030\ttotal: 201ms\tremaining: 342ms\n",
            "37:\tlearn: 0.4961137\ttotal: 203ms\tremaining: 330ms\n",
            "38:\tlearn: 0.4861929\ttotal: 204ms\tremaining: 319ms\n",
            "39:\tlearn: 0.4761033\ttotal: 206ms\tremaining: 308ms\n",
            "40:\tlearn: 0.4699238\ttotal: 222ms\tremaining: 320ms\n",
            "41:\tlearn: 0.4621853\ttotal: 224ms\tremaining: 309ms\n",
            "42:\tlearn: 0.4570959\ttotal: 225ms\tremaining: 299ms\n",
            "43:\tlearn: 0.4486358\ttotal: 229ms\tremaining: 292ms\n",
            "44:\tlearn: 0.4454615\ttotal: 235ms\tremaining: 287ms\n",
            "45:\tlearn: 0.4385835\ttotal: 239ms\tremaining: 280ms\n",
            "46:\tlearn: 0.4320683\ttotal: 241ms\tremaining: 271ms\n",
            "47:\tlearn: 0.4249425\ttotal: 245ms\tremaining: 265ms\n",
            "48:\tlearn: 0.4209395\ttotal: 248ms\tremaining: 258ms\n",
            "49:\tlearn: 0.4149887\ttotal: 259ms\tremaining: 259ms\n",
            "50:\tlearn: 0.4099868\ttotal: 260ms\tremaining: 250ms\n",
            "51:\tlearn: 0.4049610\ttotal: 262ms\tremaining: 242ms\n",
            "52:\tlearn: 0.4008534\ttotal: 269ms\tremaining: 238ms\n",
            "53:\tlearn: 0.3973905\ttotal: 270ms\tremaining: 230ms\n",
            "54:\tlearn: 0.3915038\ttotal: 282ms\tremaining: 230ms\n",
            "55:\tlearn: 0.3898908\ttotal: 284ms\tremaining: 223ms\n",
            "56:\tlearn: 0.3865165\ttotal: 287ms\tremaining: 217ms\n",
            "57:\tlearn: 0.3801760\ttotal: 290ms\tremaining: 210ms\n",
            "58:\tlearn: 0.3777944\ttotal: 293ms\tremaining: 204ms\n",
            "59:\tlearn: 0.3718380\ttotal: 297ms\tremaining: 198ms\n",
            "60:\tlearn: 0.3660920\ttotal: 303ms\tremaining: 193ms\n",
            "61:\tlearn: 0.3650637\ttotal: 305ms\tremaining: 187ms\n",
            "62:\tlearn: 0.3631014\ttotal: 309ms\tremaining: 182ms\n",
            "63:\tlearn: 0.3589072\ttotal: 313ms\tremaining: 176ms\n",
            "64:\tlearn: 0.3537758\ttotal: 316ms\tremaining: 170ms\n",
            "65:\tlearn: 0.3528160\ttotal: 320ms\tremaining: 165ms\n",
            "66:\tlearn: 0.3481740\ttotal: 323ms\tremaining: 159ms\n",
            "67:\tlearn: 0.3434842\ttotal: 326ms\tremaining: 153ms\n",
            "68:\tlearn: 0.3385129\ttotal: 329ms\tremaining: 148ms\n",
            "69:\tlearn: 0.3364116\ttotal: 331ms\tremaining: 142ms\n",
            "70:\tlearn: 0.3310860\ttotal: 335ms\tremaining: 137ms\n",
            "71:\tlearn: 0.3281237\ttotal: 337ms\tremaining: 131ms\n",
            "72:\tlearn: 0.3259647\ttotal: 340ms\tremaining: 126ms\n",
            "73:\tlearn: 0.3242580\ttotal: 344ms\tremaining: 121ms\n",
            "74:\tlearn: 0.3196448\ttotal: 347ms\tremaining: 116ms\n",
            "75:\tlearn: 0.3170250\ttotal: 349ms\tremaining: 110ms\n",
            "76:\tlearn: 0.3133392\ttotal: 352ms\tremaining: 105ms\n",
            "77:\tlearn: 0.3080644\ttotal: 356ms\tremaining: 100ms\n",
            "78:\tlearn: 0.3034266\ttotal: 359ms\tremaining: 95.6ms\n",
            "79:\tlearn: 0.2990669\ttotal: 363ms\tremaining: 90.7ms\n",
            "80:\tlearn: 0.2969699\ttotal: 387ms\tremaining: 90.7ms\n",
            "81:\tlearn: 0.2935758\ttotal: 390ms\tremaining: 85.7ms\n",
            "82:\tlearn: 0.2908465\ttotal: 394ms\tremaining: 80.7ms\n",
            "83:\tlearn: 0.2904024\ttotal: 397ms\tremaining: 75.7ms\n",
            "84:\tlearn: 0.2879023\ttotal: 401ms\tremaining: 70.7ms\n",
            "85:\tlearn: 0.2855866\ttotal: 404ms\tremaining: 65.8ms\n",
            "86:\tlearn: 0.2839607\ttotal: 408ms\tremaining: 61ms\n",
            "87:\tlearn: 0.2822103\ttotal: 411ms\tremaining: 56ms\n",
            "88:\tlearn: 0.2779679\ttotal: 415ms\tremaining: 51.3ms\n",
            "89:\tlearn: 0.2744213\ttotal: 418ms\tremaining: 46.4ms\n",
            "90:\tlearn: 0.2713041\ttotal: 422ms\tremaining: 41.7ms\n",
            "91:\tlearn: 0.2663784\ttotal: 425ms\tremaining: 37ms\n",
            "92:\tlearn: 0.2625776\ttotal: 428ms\tremaining: 32.2ms\n",
            "93:\tlearn: 0.2587043\ttotal: 432ms\tremaining: 27.6ms\n",
            "94:\tlearn: 0.2545657\ttotal: 444ms\tremaining: 23.4ms\n",
            "95:\tlearn: 0.2506611\ttotal: 448ms\tremaining: 18.6ms\n",
            "96:\tlearn: 0.2483434\ttotal: 451ms\tremaining: 13.9ms\n",
            "97:\tlearn: 0.2459690\ttotal: 454ms\tremaining: 9.26ms\n",
            "98:\tlearn: 0.2426775\ttotal: 457ms\tremaining: 4.62ms\n",
            "99:\tlearn: 0.2400568\ttotal: 461ms\tremaining: 0us\n"
          ]
        },
        {
          "output_type": "execute_result",
          "data": {
            "text/plain": [
              "<catboost.core.CatBoostRegressor at 0x7f50d429a470>"
            ]
          },
          "metadata": {},
          "execution_count": 10
        }
      ]
    },
    {
      "cell_type": "code",
      "source": [
        "y_pred = catboost_model.predict(X_test)"
      ],
      "metadata": {
        "id": "SDoUtLF8SvZN"
      },
      "execution_count": 11,
      "outputs": []
    },
    {
      "cell_type": "code",
      "source": [
        "mse = mean_squared_error(y_test, y_pred)\n",
        "print(\"Mean Squared Error:\", mse)"
      ],
      "metadata": {
        "colab": {
          "base_uri": "https://localhost:8080/"
        },
        "id": "XUvT-KuTSz2D",
        "outputId": "de21e079-fb52-4d3f-ec85-dc8bb1dafec5"
      },
      "execution_count": 12,
      "outputs": [
        {
          "output_type": "stream",
          "name": "stdout",
          "text": [
            "Mean Squared Error: 0.21066321352533043\n"
          ]
        }
      ]
    },
    {
      "cell_type": "code",
      "source": [
        "final_data = pd.DataFrame({'y_test': y_test, 'y_pred': y_pred})\n",
        "\n",
        "final_data.to_csv('Default_parameters_predictions.csv', index=False)\n",
        "\n",
        "print(\"Predictions exported to 'Default_parameters_predictions.csv'\")"
      ],
      "metadata": {
        "colab": {
          "base_uri": "https://localhost:8080/"
        },
        "id": "iIY5Lcd6eBZ7",
        "outputId": "ab8e093c-bacb-4292-8154-3d42db6354c6"
      },
      "execution_count": 47,
      "outputs": [
        {
          "output_type": "stream",
          "name": "stdout",
          "text": [
            "Predictions exported to 'predictions.csv'\n"
          ]
        }
      ]
    },
    {
      "cell_type": "code",
      "source": [
        "y_pred"
      ],
      "metadata": {
        "colab": {
          "base_uri": "https://localhost:8080/"
        },
        "id": "L5pIXWoqS3e6",
        "outputId": "ec4bd0d8-63d6-4a8a-f88e-f6c907faf6c3"
      },
      "execution_count": 13,
      "outputs": [
        {
          "output_type": "execute_result",
          "data": {
            "text/plain": [
              "array([ 7.41363246,  6.22704493,  8.31496944,  3.6538101 ,  5.22883454,\n",
              "        4.67578067,  4.42944221,  8.56542395,  5.62891678,  2.49427627,\n",
              "        8.93006548,  7.14240389,  6.99976167,  4.38403638,  4.07724695,\n",
              "        7.00044278,  5.02270278,  4.99529504,  4.95627613,  3.19181676,\n",
              "        7.59520613,  9.06821496,  3.56682393,  8.01263599,  3.63480718,\n",
              "        5.69520446,  2.97596328,  2.85320987,  2.58420478,  5.3355632 ,\n",
              "        6.51179584,  5.24389464,  5.24920597,  2.5749488 ,  3.55567016,\n",
              "        8.5404393 ,  2.11041183, 10.09638951,  5.89857448,  7.70079353,\n",
              "        4.05611219,  5.05737947,  6.42163746,  1.71591607,  7.15892484,\n",
              "        7.34840877,  2.32448999,  4.22858189,  4.76082706,  4.8273741 ,\n",
              "        3.65455641,  3.41274769,  3.2009431 ,  2.88043279,  7.52677408,\n",
              "        3.95415073,  8.22336691,  1.63996518,  4.27226318,  5.0434331 ,\n",
              "        5.43291066,  4.37646147,  2.53321185,  5.9936137 ,  5.69726873,\n",
              "        6.85816072,  4.23108866,  2.55006848,  7.69214716, 10.39599569,\n",
              "        2.76341214,  5.65795768,  2.33156393,  8.12324539,  2.77364757,\n",
              "        2.29263613,  5.50962475,  5.23702821,  5.93689308,  7.07525299,\n",
              "        4.29269627,  6.06611332,  4.9479482 ,  1.91399316,  6.62751866,\n",
              "        3.60735798,  9.41316263,  1.9487069 ,  7.09354427,  5.17273076,\n",
              "        4.62932948,  7.57360095,  2.41034341,  2.71515022,  4.03783833,\n",
              "        2.04351556,  4.17836933,  3.48219595,  2.04325209,  4.95593209,\n",
              "        5.07354884,  2.04312144,  6.12812797,  9.3893355 ,  4.81592295,\n",
              "        4.83961284])"
            ]
          },
          "metadata": {},
          "execution_count": 13
        }
      ]
    },
    {
      "cell_type": "code",
      "source": [
        "# Random Search HPO\n",
        "\n",
        "from catboost import CatBoostRegressor\n",
        "from scipy.stats import randint as sp_randint\n",
        "from sklearn.model_selection import RandomizedSearchCV\n",
        "from sklearn.metrics import mean_squared_error\n",
        "\n",
        "catboost_params = {\n",
        "    'iterations': sp_randint(10, 100),\n",
        "    'learning_rate': [0.01, 0.05, 0.1, 0.5, 1],\n",
        "    'depth': sp_randint(1, 16),\n",
        "    'l2_leaf_reg': sp_randint(1, 11),\n",
        "    'border_count': sp_randint(32, 255)\n",
        "}\n",
        "\n",
        "n_iter_search = 2\n",
        "clf = CatBoostRegressor(random_state=0, verbose=0)\n",
        "Random = RandomizedSearchCV(clf, param_distributions=catboost_params, n_iter=n_iter_search, cv=3, scoring='neg_mean_squared_error')\n",
        "Random.fit(X, y)\n",
        "\n",
        "print(\"Best Parameters:\", Random.best_params_)\n",
        "print(\"MSE:\", -Random.best_score_)\n",
        "\n",
        "y_pred = Random.predict(y_test)\n",
        "\n",
        "import pandas as pd\n",
        "pd.DataFrame({'y_test': y_test, 'y_pred': y_pred}).to_csv('Random_Search_HPO_predictions.csv', index=False)\n",
        "\n",
        "print(\"Predicted output exported to 'Random_Search_HPO_predictions.csv'\")\n",
        "\n"
      ],
      "metadata": {
        "colab": {
          "base_uri": "https://localhost:8080/"
        },
        "id": "mY1Lqze4ToZL",
        "outputId": "f12a099c-7871-410f-e912-33166d7b3161"
      },
      "execution_count": 51,
      "outputs": [
        {
          "output_type": "stream",
          "name": "stdout",
          "text": [
            "Best Parameters: {'border_count': 112, 'depth': 10, 'iterations': 61, 'l2_leaf_reg': 5, 'learning_rate': 0.5}\n",
            "MSE: 0.8465515941746853\n",
            "Predicted output exported to 'predicted_output.csv'\n"
          ]
        }
      ]
    },
    {
      "cell_type": "code",
      "source": [
        "# Grid Search HPO\n",
        "\n",
        "from catboost import CatBoostRegressor\n",
        "from sklearn.model_selection import GridSearchCV\n",
        "from sklearn.metrics import mean_squared_error\n",
        "\n",
        "catboost_params = {\n",
        "    'iterations': [10, 20, 30],\n",
        "    'learning_rate': [0.01, 0.05, 0.1],\n",
        "    'depth': [6, 8, 10],\n",
        "}\n",
        "\n",
        "clf = CatBoostRegressor(random_state=0, verbose=0)\n",
        "grid = GridSearchCV(clf, catboost_params, cv=3, scoring='neg_mean_squared_error')\n",
        "grid.fit(X, y)\n",
        "\n",
        "print(\"Best Parameters:\", grid.best_params_)\n",
        "print(\"MSE:\", -grid.best_score_)\n",
        "\n",
        "y_pred = grid.predict(y_test)\n",
        "\n",
        "import pandas as pd\n",
        "pd.DataFrame({'y_test': y_test, 'y_pred': y_pred}).to_csv('Grid_Search_HPO_predictions.csv', index=False)\n",
        "\n",
        "print(\"Predicted output exported to 'Grid_Search_HPO_predictions.csv'\")\n"
      ],
      "metadata": {
        "colab": {
          "base_uri": "https://localhost:8080/"
        },
        "id": "3HNMYQh1XBDt",
        "outputId": "823d6516-1fb4-425a-f201-19deb2d89095"
      },
      "execution_count": 52,
      "outputs": [
        {
          "output_type": "stream",
          "name": "stdout",
          "text": [
            "Best Parameters: {'depth': 6, 'iterations': 30, 'learning_rate': 0.1}\n",
            "MSE: 1.0896539379258723\n",
            "Predicted output exported to 'Grid_Search_HPO_predictions.csv'\n"
          ]
        }
      ]
    },
    {
      "cell_type": "code",
      "source": [
        "!pip install scikit-optimize"
      ],
      "metadata": {
        "colab": {
          "base_uri": "https://localhost:8080/"
        },
        "id": "stSRReu_YaJA",
        "outputId": "075b3389-d8f0-4401-e38b-30ee55a11256"
      },
      "execution_count": 27,
      "outputs": [
        {
          "output_type": "stream",
          "name": "stdout",
          "text": [
            "Collecting scikit-optimize\n",
            "  Downloading scikit_optimize-0.10.1-py2.py3-none-any.whl (107 kB)\n",
            "\u001b[2K     \u001b[90m━━━━━━━━━━━━━━━━━━━━━━━━━━━━━━━━━━━━━━━━\u001b[0m \u001b[32m107.7/107.7 kB\u001b[0m \u001b[31m1.2 MB/s\u001b[0m eta \u001b[36m0:00:00\u001b[0m\n",
            "\u001b[?25hRequirement already satisfied: joblib>=0.11 in /usr/local/lib/python3.10/dist-packages (from scikit-optimize) (1.3.2)\n",
            "Collecting pyaml>=16.9 (from scikit-optimize)\n",
            "  Downloading pyaml-23.12.0-py3-none-any.whl (23 kB)\n",
            "Requirement already satisfied: numpy>=1.20.3 in /usr/local/lib/python3.10/dist-packages (from scikit-optimize) (1.25.2)\n",
            "Requirement already satisfied: scipy>=1.1.0 in /usr/local/lib/python3.10/dist-packages (from scikit-optimize) (1.11.4)\n",
            "Requirement already satisfied: scikit-learn>=1.0.0 in /usr/local/lib/python3.10/dist-packages (from scikit-optimize) (1.2.2)\n",
            "Requirement already satisfied: packaging>=21.3 in /usr/local/lib/python3.10/dist-packages (from scikit-optimize) (24.0)\n",
            "Requirement already satisfied: PyYAML in /usr/local/lib/python3.10/dist-packages (from pyaml>=16.9->scikit-optimize) (6.0.1)\n",
            "Requirement already satisfied: threadpoolctl>=2.0.0 in /usr/local/lib/python3.10/dist-packages (from scikit-learn>=1.0.0->scikit-optimize) (3.4.0)\n",
            "Installing collected packages: pyaml, scikit-optimize\n",
            "Successfully installed pyaml-23.12.0 scikit-optimize-0.10.1\n"
          ]
        }
      ]
    },
    {
      "cell_type": "code",
      "source": [
        "# Bayesian Optimization with Gaussian Process (BO-GP)\n",
        "\n",
        "from catboost import CatBoostRegressor\n",
        "from skopt import BayesSearchCV\n",
        "from skopt.space import Real, Integer, Categorical\n",
        "from sklearn.metrics import mean_squared_error\n",
        "\n",
        "catboost_params = {\n",
        "    'iterations': Integer(10, 100),\n",
        "    'learning_rate': Real(0.01, 1.0, 'log-uniform'),\n",
        "    'depth': Integer(1, 16),\n",
        "    'l2_leaf_reg': Integer(1, 11),\n",
        "    'border_count': Integer(32, 255)\n",
        "}\n",
        "\n",
        "clf = CatBoostRegressor(random_state=0, verbose=0)\n",
        "Bayes = BayesSearchCV(clf, catboost_params, cv=3, n_iter=2, scoring='neg_mean_squared_error')\n",
        "Bayes.fit(X, y)\n",
        "\n",
        "print(\"Best Parameters:\", Bayes.best_params_)\n",
        "print(\"MSE:\", -Bayes.best_score_)\n",
        "\n",
        "y_pred = Bayes.predict(y_test)\n",
        "\n",
        "import pandas as pd\n",
        "pd.DataFrame({'y_test': y_test, 'y_pred': y_pred}).to_csv('BO-GP_predictions.csv', index=False)\n",
        "\n",
        "print(\"Predicted output exported to 'BO-GP_predictions.csv'\")\n",
        "\n"
      ],
      "metadata": {
        "colab": {
          "base_uri": "https://localhost:8080/"
        },
        "id": "arLh_J5vX8_x",
        "outputId": "9aa807d4-a3aa-4aeb-9497-82cf3645b569"
      },
      "execution_count": 54,
      "outputs": [
        {
          "output_type": "stream",
          "name": "stdout",
          "text": [
            "Best Parameters: OrderedDict([('border_count', 225), ('depth', 9), ('iterations', 73), ('l2_leaf_reg', 9), ('learning_rate', 0.1122346570212007)])\n",
            "MSE: 1.045993331327972\n",
            "Predicted output exported to 'BO-GP_predictions.csv'\n"
          ]
        }
      ]
    },
    {
      "cell_type": "code",
      "source": [
        "# Bayesian Optimization with Tree-structured Parzen Estimator (TPE)\n",
        "\n",
        "from hyperopt import hp, fmin, tpe, STATUS_OK, Trials\n",
        "from sklearn.model_selection import cross_val_score\n",
        "from catboost import CatBoostRegressor\n",
        "import numpy as np\n",
        "\n",
        "\n",
        "def objective(params):\n",
        "    params = {\n",
        "        'iterations': int(params['iterations']),\n",
        "        'learning_rate': params['learning_rate'],\n",
        "        'depth': int(params['depth']),\n",
        "        'l2_leaf_reg': int(params['l2_leaf_reg']),\n",
        "        'border_count': int(params['border_count'])\n",
        "    }\n",
        "    clf = CatBoostRegressor(**params, random_state=0, verbose=0)\n",
        "    scores = -cross_val_score(clf, X, y, cv=3, scoring=\"neg_mean_squared_error\")\n",
        "    mean_score = np.mean(scores)\n",
        "    return {'loss': mean_score, 'status': STATUS_OK}\n",
        "\n",
        "\n",
        "space = {\n",
        "    'iterations': hp.quniform('iterations', 10, 100, 1),\n",
        "    'learning_rate': hp.uniform('learning_rate', 0.01, 1.0),\n",
        "    'depth': hp.quniform('depth', 1, 16, 1),\n",
        "    'l2_leaf_reg': hp.quniform('l2_leaf_reg', 1, 11, 1),\n",
        "    'border_count': hp.quniform('border_count', 32, 255, 1)\n",
        "}\n",
        "\n",
        "trials = Trials()\n",
        "best = fmin(fn=objective,\n",
        "            space=space,\n",
        "            algo=tpe.suggest,\n",
        "            max_evals=2,\n",
        "            trials=trials)\n",
        "\n",
        "print(\"CatBoost: Hyperopt estimated optimum parameters:\", best)\n",
        "\n",
        "best_params = {\n",
        "    'iterations': int(best['iterations']),\n",
        "    'learning_rate': best['learning_rate'],\n",
        "    'depth': int(best['depth']),\n",
        "    'l2_leaf_reg': int(best['l2_leaf_reg']),\n",
        "    'border_count': int(best['border_count'])\n",
        "}\n",
        "\n",
        "clf = CatBoostRegressor(**best_params, random_state=0, verbose=0)\n",
        "clf.fit(X, y)\n",
        "\n",
        "y_pred = clf.predict(y_test)\n",
        "\n",
        "import pandas as pd\n",
        "pd.DataFrame({'y_test': y_test, 'y_pred': y_pred}).to_csv('BO-TPE_predictions.csv', index=False)\n",
        "\n",
        "print(\"Predicted output exported to 'BO-TPE_predictions.csv'\")\n"
      ],
      "metadata": {
        "colab": {
          "base_uri": "https://localhost:8080/"
        },
        "id": "ZCihX4aRYXA6",
        "outputId": "73ec0a40-c555-45bb-dcbe-3cddc1b86df1"
      },
      "execution_count": 55,
      "outputs": [
        {
          "output_type": "stream",
          "name": "stdout",
          "text": [
            "100%|██████████| 2/2 [00:01<00:00,  1.85trial/s, best loss: 0.5039675055435819]\n",
            "CatBoost: Hyperopt estimated optimum parameters: {'border_count': 222.0, 'depth': 5.0, 'iterations': 66.0, 'l2_leaf_reg': 1.0, 'learning_rate': 0.3751981569908176}\n",
            "Predicted output exported to 'BO-TPE_predictions.csv'\n"
          ]
        }
      ]
    }
  ]
}